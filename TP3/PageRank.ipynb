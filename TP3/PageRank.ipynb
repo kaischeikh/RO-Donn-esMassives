{
  "nbformat": 4,
  "nbformat_minor": 0,
  "metadata": {
    "colab": {
      "name": "PageRank.ipynb",
      "provenance": [],
      "collapsed_sections": [
        "BLhy__NqdgQf",
        "F7EFQ_ECgR6i",
        "nOaXpgYSlOST",
        "jBgVyvrqODNP",
        "muGN-sIfnBy6"
      ],
      "toc_visible": true
    },
    "kernelspec": {
      "display_name": "Python 3",
      "name": "python3",
      "language": "python"
    },
    "language_info": {
      "name": "python",
      "version": "3.8.3-final"
    }
  },
  "cells": [
    {
      "cell_type": "markdown",
      "metadata": {
        "id": "EG-qVrdQCFzv"
      },
      "source": [
        "# Page Rank"
      ]
    },
    {
      "cell_type": "markdown",
      "metadata": {
        "id": "nSxSmHjeCNvU"
      },
      "source": [
        "## Import Package"
      ]
    },
    {
      "cell_type": "code",
      "metadata": {
        "id": "BOpGA7-BB-5k"
      },
      "source": [
        "import numpy as np\n",
        "import pandas as pd\n",
        "import matplotlib.pyplot as plt\n",
        "import seaborn as sns\n",
        "import time\n",
        "from tqdm.notebook import tqdm\n",
        "from copy import deepcopy\n",
        "import pickle"
      ],
      "execution_count": 35,
      "outputs": []
    },
    {
      "cell_type": "markdown",
      "metadata": {
        "id": "nOaXpgYSlOST"
      },
      "source": [
        "## EdgeList class"
      ]
    },
    {
      "cell_type": "code",
      "metadata": {
        "id": "hLHDC-3Xy92W"
      },
      "source": [
        "def  Normalize2P(P, i, n, norm_1): \n",
        "  if i == None:\n",
        "    for u in P:\n",
        "      P[u] += (1 - norm_1) / n\n",
        "  else:\n",
        "      P[i] += (1 - norm_1)\n",
        "  return P"
      ],
      "execution_count": 36,
      "outputs": []
    },
    {
      "cell_type": "code",
      "metadata": {
        "id": "yzcT8e0MlR9T"
      },
      "source": [
        "class EdgeList:\n",
        "  '''\n",
        "  Class to model a graph using edgelist structure.\n",
        "  This model used for the PageRank algorithm.\n",
        "  '''\n",
        "  def read_file_name(self, file_name):\n",
        "    '''\n",
        "      Read the names of nodes .\n",
        "      Input:\n",
        "        - file_name: file to read the node name pair.\n",
        "      Add these attributes:\n",
        "        - names: dict for each node it's name.\n",
        "        - nodes: list of nodes in the graph.\n",
        "        - n: number of nodes.\n",
        "    '''\n",
        "    self.names = {}\n",
        "    self.nodes = []\n",
        "    with(open(file_name, 'r')) as f:\n",
        "      line = f.readline()\n",
        "      while line:\n",
        "        line = line.split()\n",
        "        if len(line) != 0 and line[0] != \"#\":\n",
        "          u = int(line[0])\n",
        "          self.nodes.append(u)\n",
        "          self.names[u] = \" \".join(line[1:])\n",
        "        line = f.readline()\n",
        "    f.close()\n",
        "    self.n = len(self.nodes)\n",
        "\n",
        "  def read_file_edglist(self, file_name):\n",
        "    '''\n",
        "      Read a graph from file and store it as edgelist\n",
        "      Input:\n",
        "        - file_name: file to read the graph from.\n",
        "      Add these attributes:\n",
        "        - n: number of nodes.\n",
        "        - m: number of edges.\n",
        "        - edgelist: a dict with keys the nodes and values\n",
        "                    list of neighbors.\n",
        "        - deg_out: dict with keys the nodes\n",
        "                  and value the out degree.\n",
        "        - deg_in: dict with keys the nodes\n",
        "                  and value the in degree.\n",
        "    '''\n",
        "    self.m = 0\n",
        "    self.edgelist ={}\n",
        "    with(open(file_name, 'r')) as f:\n",
        "      line = f.readline()\n",
        "      while line:\n",
        "        line = line.split()\n",
        "        if len(line) == 2:\n",
        "          u = int(line[0])\n",
        "          v = int(line[1])\n",
        "          self.m += 1\n",
        "          if not(u in self.edgelist.keys()):\n",
        "            self.edgelist[u] = []\n",
        "          self.edgelist[u].append(v)            \n",
        "        line = f.readline()\n",
        "    f.close()\n",
        "    self.deg_out = {}\n",
        "    self.deg_in = {}\n",
        "    for u in self.nodes:\n",
        "      self.deg_in[u] = 0\n",
        "      if u in self.edgelist.keys():\n",
        "        self.deg_out[u] = len(self.edgelist[u])\n",
        "      else:\n",
        "        self.deg_out[u] = 0\n",
        "    for u, neighbors in self.edgelist.items():\n",
        "      for v in neighbors:\n",
        "        self.deg_in[v] +=1\n",
        "\n",
        "  def __init__(self, file_names, file_graph):\n",
        "    self.read_file_name(file_names)\n",
        "    self.read_file_edglist(file_graph)\n",
        "    self.reverse_edgelist()\n",
        "    self.get_end_nodes()\n",
        "\n",
        "  def edge_exists(self, u, v):\n",
        "    '''\n",
        "     Return if there's an edge from u to v.\n",
        "     Input:\n",
        "      - edgelist: a graph stored as edgelist\n",
        "      - u: starting node.\n",
        "      - v: ending node.\n",
        "    Output:\n",
        "      - Boolean if u lead to v.\n",
        "    '''\n",
        "    return v in self.edgelist[u]\n",
        "  \n",
        "  def reverse_edgelist(self):\n",
        "    '''\n",
        "    This function compute the pagerank algorithm based on the power iteration method.\n",
        "      Inputs:\n",
        "          - n: number of nodes.\n",
        "          - m: number of edges.\n",
        "          - edgelist: a dict with keys the nodes and values\n",
        "                      list of neighbors.\n",
        "          - nodes: list of nodes.\n",
        "        Add this attribute:\n",
        "        - reverse_edgelist: a dict with keys the nodes and values\n",
        "                      list of nodes that lead to the node.\n",
        "    '''\n",
        "    self.reverse_edgelist = {}\n",
        "    for u in self.nodes:\n",
        "      if not u in self.reverse_edgelist.keys():\n",
        "        self.reverse_edgelist[u] = []\n",
        "      if not u in self.edgelist.keys():\n",
        "        continue\n",
        "      for v in self.edgelist[u]:\n",
        "        if not (v in self.reverse_edgelist.keys()):\n",
        "          self.reverse_edgelist[v] = []\n",
        "        self.reverse_edgelist[v].append(u)\n",
        "\n",
        "  def get_end_nodes(self):\n",
        "    '''\n",
        "      This function compute the pagerank algorithm based on the power iteration method.\n",
        "      Inputs:\n",
        "          - edgelist: a dict with keys the nodes and values\n",
        "                      list of neighbors.\n",
        "          - nodes: list of nodes.\n",
        "          - deg_out: dict contains the out degree of every node.\n",
        "        Add this attribute:\n",
        "        - end_nodes: a list of nodes that have an out degree equal to 0.\n",
        "    '''\n",
        "    self.end_nodes = []\n",
        "    for u in self.nodes:\n",
        "      if self.deg_out[u] == 0:\n",
        "        self.end_nodes.append(u)\n",
        "  def PageRank(self, alpha= 0.1, t= 100, epsilion= 1e-3, P0= None):\n",
        "    '''\n",
        "     This method compute the pagerank algorithm based on the power iteration \n",
        "     method.\n",
        "     Inputs:\n",
        "        - alpha: damping factor, between 0 and 1.\n",
        "        - t: number of iterations to be done.\n",
        "        - epsilion: the limit of convergence of the graph.\n",
        "        - P0: node for the rooted pagerank.\n",
        "              If not initialized the regular pagerank will be used. \n",
        "     Output:\n",
        "      - P:  dict of Pageranks with size n (number of node).\n",
        "      - history: dict containing the different values for each iterations.\n",
        "      - total_time: the time needed to finsih all iterations/converge.\n",
        "    '''\n",
        "    P = {u:1/self.n for u in self.nodes}\n",
        "    Pt = {u:0 for u in self.nodes}\n",
        "    start_time = time.time()\n",
        "    history = {}\n",
        "    for i in range(t):\n",
        "        iter_time = time.time()\n",
        "        norm1 = np.sum([abs(P[u]) for u in self.end_nodes]) / self.n\n",
        "        end_inter = np.sum([P[u] for u in self.end_nodes]) / self.n\n",
        "        for v in tqdm(self.nodes):\n",
        "            inter = end_inter + np.sum([P[u]/self.deg_out[u] for u in self.reverse_edgelist[v]])\n",
        "            if P0 == None:\n",
        "                Pt[v] = (1 - alpha) * inter + alpha /self.n\n",
        "            elif v in P0.keys():\n",
        "                Pt[v] = (1 - alpha) * inter + alpha * P0[v]\n",
        "            else:\n",
        "                Pt[v] = (1 - alpha) * inter\n",
        "            norm1 += abs(Pt[v]) # compute the norm 1\n",
        "        Pt = Normalize2P(Pt, P0, self.n, norm1)\n",
        "        diff = np.sum([abs(Pt[u] - P[u]) for u in self.nodes])\n",
        "        P = deepcopy(Pt)\n",
        "        history[i] = {}\n",
        "        history[i][\"norm\"] = norm1\n",
        "        history[i][\"diff\"] = diff\n",
        "        history[i][\"time\"] = time.time() - iter_time\n",
        "        if diff < epsilion:\n",
        "            break\n",
        "    total_time = time.time() - start_time\n",
        "    return P, history, total_time"
      ],
      "execution_count": 42,
      "outputs": []
    },
    {
      "cell_type": "code",
      "metadata": {
        "id": "CWTKSziZkEO7"
      },
      "source": [
        "path = \"../../data\"\n",
        "file_name_edge = path + \"/alr21--dirLinks--enwiki-20071018.txt\"\n",
        "file_name_names = path + \"/alr21--pageNum2Name--enwiki-20071018.txt\""
      ],
      "execution_count": 43,
      "outputs": []
    },
    {
      "cell_type": "code",
      "execution_count": 39,
      "metadata": {},
      "outputs": [],
      "source": [
        "G = EdgeList(file_name_names, file_name_edge)"
      ]
    },
    {
      "cell_type": "code",
      "metadata": {
        "id": "l8_dROFI1Xn4"
      },
      "source": [
        "alpha = 0.15 \n",
        "t = 20\n",
        "eps = 1e-3\n",
        "P, history, total_time = G.PageRank(alpha= alpha, t= t, epsilion= eps)"
      ],
      "execution_count": 40,
      "outputs": [
        {
          "output_type": "display_data",
          "data": {
            "text/plain": "HBox(children=(FloatProgress(value=1.0, bar_style='info', max=1.0), HTML(value='')))",
            "application/vnd.jupyter.widget-view+json": {
              "version_major": 2,
              "version_minor": 0,
              "model_id": "21f3b55d33494c5f9b36e59302306431"
            }
          },
          "metadata": {}
        },
        {
          "output_type": "stream",
          "name": "stdout",
          "text": [
            "\n"
          ]
        },
        {
          "output_type": "error",
          "ename": "TypeError",
          "evalue": "'int' object is not iterable",
          "traceback": [
            "\u001b[1;31m---------------------------------------------------------------------------\u001b[0m",
            "\u001b[1;31mTypeError\u001b[0m                                 Traceback (most recent call last)",
            "\u001b[1;32m<ipython-input-40-ad56c4b64106>\u001b[0m in \u001b[0;36m<module>\u001b[1;34m\u001b[0m\n\u001b[0;32m      2\u001b[0m \u001b[0mt\u001b[0m \u001b[1;33m=\u001b[0m \u001b[1;36m20\u001b[0m\u001b[1;33m\u001b[0m\u001b[1;33m\u001b[0m\u001b[0m\n\u001b[0;32m      3\u001b[0m \u001b[0meps\u001b[0m \u001b[1;33m=\u001b[0m \u001b[1;36m1e-3\u001b[0m\u001b[1;33m\u001b[0m\u001b[1;33m\u001b[0m\u001b[0m\n\u001b[1;32m----> 4\u001b[1;33m \u001b[0mP\u001b[0m\u001b[1;33m,\u001b[0m \u001b[0mhistory\u001b[0m\u001b[1;33m,\u001b[0m \u001b[0mtotal_time\u001b[0m \u001b[1;33m=\u001b[0m \u001b[0mG\u001b[0m\u001b[1;33m.\u001b[0m\u001b[0mPageRank\u001b[0m\u001b[1;33m(\u001b[0m\u001b[0malpha\u001b[0m\u001b[1;33m=\u001b[0m \u001b[0malpha\u001b[0m\u001b[1;33m,\u001b[0m \u001b[0mt\u001b[0m\u001b[1;33m=\u001b[0m \u001b[0mt\u001b[0m\u001b[1;33m,\u001b[0m \u001b[0mepsilion\u001b[0m\u001b[1;33m=\u001b[0m \u001b[0meps\u001b[0m\u001b[1;33m)\u001b[0m\u001b[1;33m\u001b[0m\u001b[1;33m\u001b[0m\u001b[0m\n\u001b[0m",
            "\u001b[1;32m<ipython-input-37-a6ead39e9352>\u001b[0m in \u001b[0;36mPageRank\u001b[1;34m(self, alpha, t, epsilion, P0)\u001b[0m\n\u001b[0;32m    146\u001b[0m     \u001b[0mstart_time\u001b[0m \u001b[1;33m=\u001b[0m \u001b[0mtime\u001b[0m\u001b[1;33m.\u001b[0m\u001b[0mtime\u001b[0m\u001b[1;33m(\u001b[0m\u001b[1;33m)\u001b[0m\u001b[1;33m\u001b[0m\u001b[1;33m\u001b[0m\u001b[0m\n\u001b[0;32m    147\u001b[0m     \u001b[0mhistory\u001b[0m \u001b[1;33m=\u001b[0m \u001b[1;33m{\u001b[0m\u001b[1;33m}\u001b[0m\u001b[1;33m\u001b[0m\u001b[1;33m\u001b[0m\u001b[0m\n\u001b[1;32m--> 148\u001b[1;33m     \u001b[1;32mfor\u001b[0m \u001b[0mi\u001b[0m \u001b[1;32min\u001b[0m \u001b[0mtqdm\u001b[0m\u001b[1;33m(\u001b[0m\u001b[0mt\u001b[0m\u001b[1;33m)\u001b[0m\u001b[1;33m:\u001b[0m\u001b[1;33m\u001b[0m\u001b[1;33m\u001b[0m\u001b[0m\n\u001b[0m\u001b[0;32m    149\u001b[0m         \u001b[0miter_time\u001b[0m \u001b[1;33m=\u001b[0m \u001b[0mtime\u001b[0m\u001b[1;33m.\u001b[0m\u001b[0mtime\u001b[0m\u001b[1;33m(\u001b[0m\u001b[1;33m)\u001b[0m\u001b[1;33m\u001b[0m\u001b[1;33m\u001b[0m\u001b[0m\n\u001b[0;32m    150\u001b[0m         \u001b[0mnorm1\u001b[0m \u001b[1;33m=\u001b[0m \u001b[0mnp\u001b[0m\u001b[1;33m.\u001b[0m\u001b[0msum\u001b[0m\u001b[1;33m(\u001b[0m\u001b[1;33m[\u001b[0m\u001b[0mabs\u001b[0m\u001b[1;33m(\u001b[0m\u001b[0mP\u001b[0m\u001b[1;33m[\u001b[0m\u001b[0mu\u001b[0m\u001b[1;33m]\u001b[0m\u001b[1;33m)\u001b[0m \u001b[1;32mfor\u001b[0m \u001b[0mu\u001b[0m \u001b[1;32min\u001b[0m \u001b[0mself\u001b[0m\u001b[1;33m.\u001b[0m\u001b[0mend_nodes\u001b[0m\u001b[1;33m]\u001b[0m\u001b[1;33m)\u001b[0m \u001b[1;33m/\u001b[0m \u001b[0mself\u001b[0m\u001b[1;33m.\u001b[0m\u001b[0mn\u001b[0m\u001b[1;33m\u001b[0m\u001b[1;33m\u001b[0m\u001b[0m\n",
            "\u001b[1;32m~\\anaconda3\\lib\\site-packages\\tqdm\\notebook.py\u001b[0m in \u001b[0;36m__iter__\u001b[1;34m(self, *args, **kwargs)\u001b[0m\n\u001b[0;32m    215\u001b[0m     \u001b[1;32mdef\u001b[0m \u001b[0m__iter__\u001b[0m\u001b[1;33m(\u001b[0m\u001b[0mself\u001b[0m\u001b[1;33m,\u001b[0m \u001b[1;33m*\u001b[0m\u001b[0margs\u001b[0m\u001b[1;33m,\u001b[0m \u001b[1;33m**\u001b[0m\u001b[0mkwargs\u001b[0m\u001b[1;33m)\u001b[0m\u001b[1;33m:\u001b[0m\u001b[1;33m\u001b[0m\u001b[1;33m\u001b[0m\u001b[0m\n\u001b[0;32m    216\u001b[0m         \u001b[1;32mtry\u001b[0m\u001b[1;33m:\u001b[0m\u001b[1;33m\u001b[0m\u001b[1;33m\u001b[0m\u001b[0m\n\u001b[1;32m--> 217\u001b[1;33m             \u001b[1;32mfor\u001b[0m \u001b[0mobj\u001b[0m \u001b[1;32min\u001b[0m \u001b[0msuper\u001b[0m\u001b[1;33m(\u001b[0m\u001b[0mtqdm_notebook\u001b[0m\u001b[1;33m,\u001b[0m \u001b[0mself\u001b[0m\u001b[1;33m)\u001b[0m\u001b[1;33m.\u001b[0m\u001b[0m__iter__\u001b[0m\u001b[1;33m(\u001b[0m\u001b[1;33m*\u001b[0m\u001b[0margs\u001b[0m\u001b[1;33m,\u001b[0m \u001b[1;33m**\u001b[0m\u001b[0mkwargs\u001b[0m\u001b[1;33m)\u001b[0m\u001b[1;33m:\u001b[0m\u001b[1;33m\u001b[0m\u001b[1;33m\u001b[0m\u001b[0m\n\u001b[0m\u001b[0;32m    218\u001b[0m                 \u001b[1;31m# return super(tqdm...) will not catch exception\u001b[0m\u001b[1;33m\u001b[0m\u001b[1;33m\u001b[0m\u001b[1;33m\u001b[0m\u001b[0m\n\u001b[0;32m    219\u001b[0m                 \u001b[1;32myield\u001b[0m \u001b[0mobj\u001b[0m\u001b[1;33m\u001b[0m\u001b[1;33m\u001b[0m\u001b[0m\n",
            "\u001b[1;32m~\\anaconda3\\lib\\site-packages\\tqdm\\std.py\u001b[0m in \u001b[0;36m__iter__\u001b[1;34m(self)\u001b[0m\n\u001b[0;32m   1127\u001b[0m \u001b[1;33m\u001b[0m\u001b[0m\n\u001b[0;32m   1128\u001b[0m         \u001b[1;32mtry\u001b[0m\u001b[1;33m:\u001b[0m\u001b[1;33m\u001b[0m\u001b[1;33m\u001b[0m\u001b[0m\n\u001b[1;32m-> 1129\u001b[1;33m             \u001b[1;32mfor\u001b[0m \u001b[0mobj\u001b[0m \u001b[1;32min\u001b[0m \u001b[0miterable\u001b[0m\u001b[1;33m:\u001b[0m\u001b[1;33m\u001b[0m\u001b[1;33m\u001b[0m\u001b[0m\n\u001b[0m\u001b[0;32m   1130\u001b[0m                 \u001b[1;32myield\u001b[0m \u001b[0mobj\u001b[0m\u001b[1;33m\u001b[0m\u001b[1;33m\u001b[0m\u001b[0m\n\u001b[0;32m   1131\u001b[0m                 \u001b[1;31m# Update and possibly print the progressbar.\u001b[0m\u001b[1;33m\u001b[0m\u001b[1;33m\u001b[0m\u001b[1;33m\u001b[0m\u001b[0m\n",
            "\u001b[1;31mTypeError\u001b[0m: 'int' object is not iterable"
          ]
        }
      ]
    },
    {
      "cell_type": "code",
      "metadata": {
        "id": "_oX7WvE5HbnU"
      },
      "source": [
        "total_time / 60"
      ],
      "execution_count": null,
      "outputs": []
    },
    {
      "cell_type": "markdown",
      "metadata": {
        "id": "YpVm6fL-NZnB"
      },
      "source": [
        "We can see that after 12 iterations the $|| P_{t+1} - P_{t}||_1 \n",
        "< \\epsilon$ with $\\epsilon = 0.001$"
      ]
    },
    {
      "cell_type": "code",
      "metadata": {
        "id": "UrFBomQama0A"
      },
      "source": [
        "history = pd.DataFrame.from_dict(history)\n",
        "history = history.transpose()\n",
        "history = history.reset_index()\n",
        "history = history.rename(columns= {\"index\": \"iteration\"})\n",
        "history.head()"
      ],
      "execution_count": null,
      "outputs": []
    },
    {
      "cell_type": "code",
      "metadata": {
        "id": "srWt_QRO2pNP"
      },
      "source": [
        "fig, ax = plt.subplots(figsize=(20,10))\n",
        "sns.lineplot(data= history, y=\"diff\", x=\"iteration\", label= \"$|| P_{t+1} - P_{t} ||_1$\")\n",
        "plt.plot([eps for i in range(history.shape[0])], label= \"$\\epsilon$= \"+ str(eps))\n",
        "plt.title(\"Convergence of the PageRank algorithm\")\n",
        "plt.xlabel(\"iteration\")\n",
        "plt.ylabel(\" $|| P_{t+1} - P_{t} ||_1$\")\n",
        "plt.legend()\n",
        "plt.show()"
      ],
      "execution_count": null,
      "outputs": []
    },
    {
      "cell_type": "code",
      "metadata": {
        "id": "A48CvqoVMDbN"
      },
      "source": [
        "fig, ax = plt.subplots(figsize=(20,10))\n",
        "sns.lineplot(data= history, y=\"time\", x=\"iteration\")\n",
        "plt.title(\"PageRank algorithm: time per algorithm\")\n",
        "plt.xlabel(\"iteration\")\n",
        "plt.ylabel(\"time (seconds)\")\n",
        "plt.legend()\n",
        "plt.show()"
      ],
      "execution_count": null,
      "outputs": []
    },
    {
      "cell_type": "markdown",
      "metadata": {
        "id": "yeTTXuLgN2qv"
      },
      "source": [
        "#### Top 5 pages"
      ]
    },
    {
      "cell_type": "code",
      "metadata": {
        "id": "NDIQDAYp2aRD"
      },
      "source": [
        "Values = sorted(list(P.values()), reverse= True)\n",
        "Val5 = Values[:5]\n",
        "Top5 = []\n",
        "Top5id = []\n",
        "values5 = []\n",
        "for val in Val5:\n",
        "  for u, valeur in P.items():\n",
        "    if valeur == val:\n",
        "      Top5.append(G.names[u])\n",
        "      Top5id.append(u)\n",
        "      values5.append(valeur)\n",
        "      break\n",
        "TOP = pd.DataFrame([Top5, Top5id, values5])\n",
        "print(\"Top5: \", Top5)\n",
        "print(\"Top5id: \", Top5id)\n",
        "print(\"Values5: \", values5)\n",
        "TOP = TOP.transpose().rename(columns={0: \"name\",\n",
        "                                      1: \"ID\",\n",
        "                                      2: \"PageRank\"})\n",
        "TOP"
      ],
      "execution_count": null,
      "outputs": []
    },
    {
      "cell_type": "markdown",
      "metadata": {
        "id": "Tnx0ouN_N6YS"
      },
      "source": [
        "#### low 5 pages"
      ]
    },
    {
      "cell_type": "code",
      "metadata": {
        "id": "ZYrMx9nD58aP"
      },
      "source": [
        "Val5 = Values[-1]\n",
        "Low5 = []\n",
        "Low5id = []\n",
        "for u, val in P.items():\n",
        "  if val == Val5:\n",
        "    Low5.append(G.names[u])\n",
        "    Low5id.append(u)\n",
        "LOW = pd.DataFrame([Low5[0:5], Low5id[0:5], [Val5 for i in range(5)]])\n",
        "print(\"Low5: \", Low5[0:5])\n",
        "print(\"Low5id: \", Low5id[0:5])\n",
        "LOW = LOW.transpose().rename(columns={0: \"name\",\n",
        "                                      1: \"ID\",\n",
        "                                      2: \"PageRank\"})\n",
        "LOW"
      ],
      "execution_count": null,
      "outputs": []
    },
    {
      "cell_type": "markdown",
      "metadata": {
        "id": "jBgVyvrqODNP"
      },
      "source": [
        "## Exercice 2"
      ]
    },
    {
      "cell_type": "code",
      "metadata": {
        "id": "-XCkMt1iVDg1"
      },
      "source": [
        "P1, history1, total_time1 = G.PageRank(alpha= 0.1, t= 20)"
      ],
      "execution_count": null,
      "outputs": []
    },
    {
      "cell_type": "code",
      "metadata": {
        "id": "mGo7hFKqVrUQ"
      },
      "source": [
        "P2, history2, total_time2 = G.PageRank(alpha= 0.2, t= 20)"
      ],
      "execution_count": null,
      "outputs": []
    },
    {
      "cell_type": "code",
      "metadata": {
        "colab": {
          "background_save": true,
          "base_uri": "https://localhost:8080/"
        },
        "id": "ikoR_G0_Vw-B",
        "outputId": "4cac81b1-4c9a-4243-dff1-d9ca2292d7a9"
      },
      "source": [
        "P3, history3, total_time3 = G.PageRank(alpha= 0.5, t= 20)"
      ],
      "execution_count": null,
      "outputs": []
    },
    {
      "cell_type": "code",
      "metadata": {
        "colab": {
          "base_uri": "https://localhost:8080/"
        },
        "id": "dVzfqasdV0Sf",
        "outputId": "9d5e4353-893b-4af4-e926-0c66fbbf5ba6"
      },
      "source": [
        "P4, history4, total_time4 = G.PageRank(alpha= 0.9, t= 20)"
      ],
      "execution_count": null,
      "outputs": []
    },
    {
      "cell_type": "code",
      "metadata": {
        "id": "hX00iwhaQyTX"
      },
      "source": [
        "data = pd.DataFrame.from_dict(G.deg_in, orient= \"index\", columns= [\"in-degree\"])\n",
        "data = data.join(pd.DataFrame.from_dict(G.deg_out, orient= \"index\", columns= [\"out-degree\"]))\n",
        "data = data.join(pd.DataFrame.from_dict(G.names, orient= \"index\", columns= [\"name\"]))\n",
        "data = data.join(pd.DataFrame.from_dict(P, orient= \"index\", columns= [\"PageRank\"]))\n",
        "data = data.join(pd.DataFrame.from_dict(P1, orient= \"index\", columns= [\"PageRank0.1\"]))\n",
        "data = data.join(pd.DataFrame.from_dict(P2, orient= \"index\", columns= [\"PageRank0.2\"]))\n",
        "data = data.join(pd.DataFrame.from_dict(P3, orient= \"index\", columns= [\"PageRank0.5\"]))\n",
        "data = data.join(pd.DataFrame.from_dict(P4, orient= \"index\", columns= [\"PageRank0.9\"]))\n",
        "data = data.reset_index()\n",
        "data = data.rename(columns= {\"index\": \"ID\"})\n",
        "data"
      ],
      "execution_count": null,
      "outputs": []
    },
    {
      "cell_type": "code",
      "execution_count": null,
      "metadata": {},
      "outputs": [],
      "source": [
        "save_data = True"
      ]
    },
    {
      "cell_type": "code",
      "execution_count": null,
      "metadata": {},
      "outputs": [],
      "source": [
        "if save_data == True:\n",
        "    file_data = path + \"/data_sim.pkl\"\n",
        "    with open(path+file_data, 'wb') as f:\n",
        "        pickle.dump(data, f)\n",
        "    f.close()"
      ]
    },
    {
      "cell_type": "code",
      "execution_count": null,
      "metadata": {},
      "outputs": [],
      "source": [
        "load_data = False"
      ]
    },
    {
      "cell_type": "code",
      "execution_count": null,
      "metadata": {},
      "outputs": [],
      "source": [
        "if load_data == True:\n",
        "    file_data = path + \"/data_sim.pkl\"\n",
        "    with open(path+file_data, 'rb') as f:\n",
        "        data = pickle.load(f)\n",
        "    f.close()"
      ]
    },
    {
      "cell_type": "markdown",
      "metadata": {
        "id": "cRlV_9S6lxBy"
      },
      "source": [
        "#### PageRank VS in-degree"
      ]
    },
    {
      "cell_type": "code",
      "metadata": {
        "id": "mK1G8mPuOkIq"
      },
      "source": [
        "fig, ax = plt.subplots(figsize=(20,10))\n",
        "sns.scatterplot(data= data, x=\"PageRank\", y=\"in-degree\")\n",
        "plt.title(\"Scatter plot\")\n",
        "plt.show()"
      ],
      "execution_count": null,
      "outputs": []
    },
    {
      "cell_type": "code",
      "metadata": {
        "id": "TRZNlO_5brx1"
      },
      "source": [
        "fig, ax = plt.subplots(figsize=(20,10))\n",
        "sns.scatterplot(data= data, x=\"PageRank\", y=\"in-degree\")\n",
        "#ax.set_yscale('log')\n",
        "ax.set_xscale('log')\n",
        "plt.title(\"Scatter plot log\")\n",
        "plt.show()"
      ],
      "execution_count": null,
      "outputs": []
    },
    {
      "cell_type": "markdown",
      "metadata": {
        "id": "D-fUz7ZNl5aW"
      },
      "source": [
        "#### PageRank VS out-degree"
      ]
    },
    {
      "cell_type": "code",
      "metadata": {
        "id": "D2dV_RcBOhE9"
      },
      "source": [
        "fig, ax = plt.subplots(figsize=(20,10))\n",
        "sns.scatterplot(data= data, x=\"PageRank\", y=\"out-degree\")\n",
        "# plt.xticks(rotation = 45)\n",
        "plt.title(\"Scatter plot\")\n",
        "plt.show()"
      ],
      "execution_count": null,
      "outputs": []
    },
    {
      "cell_type": "code",
      "metadata": {
        "id": "i3MmVX5tfvWi"
      },
      "source": [
        "fig, ax = plt.subplots(figsize=(20,10))\n",
        "sns.scatterplot(data= data, x=\"PageRank\", y=\"out-degree\")\n",
        "#ax.set_yscale('log')\n",
        "ax.set_xscale('log')\n",
        "plt.title(\"Scatter plot log\")\n",
        "plt.show()"
      ],
      "execution_count": null,
      "outputs": []
    },
    {
      "cell_type": "markdown",
      "metadata": {
        "id": "ogZtQfSrl9_o"
      },
      "source": [
        "#### PageRank0.15 VS PageRank0.1"
      ]
    },
    {
      "cell_type": "code",
      "metadata": {
        "id": "oXsSzbzqVXBD"
      },
      "source": [
        "fig, ax = plt.subplots(figsize=(20,10))\n",
        "sns.scatterplot(data= data, x=\"PageRank\", y=\"PageRank0.1\")\n",
        "# plt.xticks(rotation = 45)\n",
        "plt.title(\"Scatter plot\")\n",
        "plt.show()"
      ],
      "execution_count": null,
      "outputs": []
    },
    {
      "cell_type": "code",
      "metadata": {
        "id": "tPHBVLtsfylA"
      },
      "source": [
        "fig, ax = plt.subplots(figsize=(20,10))\n",
        "sns.scatterplot(data= data, x=\"PageRank\", y=\"PageRank0.1\")\n",
        "#ax.set_yscale('log')\n",
        "ax.set_xscale('log')\n",
        "plt.title(\"Scatter plot log\")\n",
        "plt.show()"
      ],
      "execution_count": null,
      "outputs": []
    },
    {
      "cell_type": "markdown",
      "metadata": {
        "id": "dpk-7bHamKWe"
      },
      "source": [
        "#### PageRank0.15 VS PageRank0.2"
      ]
    },
    {
      "cell_type": "code",
      "metadata": {
        "id": "IfzlxUL9VvwE"
      },
      "source": [
        "fig, ax = plt.subplots(figsize=(20,10))\n",
        "sns.scatterplot(data= data, x=\"PageRank\", y=\"PageRank0.2\")\n",
        "# plt.xticks(rotation = 45)\n",
        "plt.title(\"Scatter plot\")\n",
        "plt.show()"
      ],
      "execution_count": null,
      "outputs": []
    },
    {
      "cell_type": "code",
      "metadata": {
        "id": "MLQyIr4xf2Ye"
      },
      "source": [
        "fig, ax = plt.subplots(figsize=(20,10))\n",
        "sns.scatterplot(data= data, x=\"PageRank\", y=\"PageRank0.2\")\n",
        "#ax.set_yscale('log')\n",
        "ax.set_xscale('log')\n",
        "plt.title(\"Scatter plot log\")\n",
        "plt.show()"
      ],
      "execution_count": null,
      "outputs": []
    },
    {
      "cell_type": "markdown",
      "metadata": {
        "id": "gEH-rf1JmPPc"
      },
      "source": [
        "#### PageRank0.15 VS PageRank0.5"
      ]
    },
    {
      "cell_type": "code",
      "metadata": {
        "id": "yTx4C79pVzvr"
      },
      "source": [
        "fig, ax = plt.subplots(figsize=(20,10))\n",
        "sns.scatterplot(data= data, x=\"PageRank\", y=\"PageRank0.5\")\n",
        "# plt.xticks(rotation = 45)\n",
        "plt.title(\"Scatter plot\")\n",
        "plt.show()"
      ],
      "execution_count": null,
      "outputs": []
    },
    {
      "cell_type": "code",
      "metadata": {
        "id": "ESn2yQ1df5B4"
      },
      "source": [
        "fig, ax = plt.subplots(figsize=(20,10))\n",
        "sns.scatterplot(data= data, x=\"PageRank\", y=\"PageRank0.5\")\n",
        "ax.set_yscale('log')\n",
        "ax.set_xscale('log')\n",
        "plt.title(\"Scatter plot log\")\n",
        "plt.show()"
      ],
      "execution_count": null,
      "outputs": []
    },
    {
      "cell_type": "markdown",
      "metadata": {
        "id": "t_3MjFSYmTbz"
      },
      "source": [
        "#### PageRank0.15 VS PageRank0.9"
      ]
    },
    {
      "cell_type": "code",
      "metadata": {
        "id": "0N4Jf-LJV3A7"
      },
      "source": [
        "fig, ax = plt.subplots(figsize=(20,10))\n",
        "sns.scatterplot(data= data, x=\"PageRank\", y=\"PageRank0.9\")\n",
        "# plt.xticks(rotation = 45)\n",
        "plt.title(\"Scatter plot\")\n",
        "plt.show()"
      ],
      "execution_count": null,
      "outputs": []
    },
    {
      "cell_type": "code",
      "metadata": {
        "id": "UwhIKo-Mf8pA"
      },
      "source": [
        "fig, ax = plt.subplots(figsize=(20,10))\n",
        "sns.scatterplot(data= data, x=\"PageRank\", y=\"PageRank0.9\")\n",
        "ax.set_yscale('log')\n",
        "ax.set_xscale('log')\n",
        "plt.title(\"Scatter plot log\")\n",
        "plt.show()"
      ],
      "execution_count": null,
      "outputs": []
    },
    {
      "cell_type": "markdown",
      "metadata": {
        "id": "HCOghWy1cGbf"
      },
      "source": [
        "### Correlation matrix"
      ]
    },
    {
      "cell_type": "code",
      "metadata": {
        "id": "B2_w7t-ibbil"
      },
      "source": [
        "fig, ax = plt.subplots(figsize=(20,10))\n",
        "corrMatrix = data.drop(columns=\"ID\").corr()\n",
        "sns.heatmap(corrMatrix, annot=True)\n",
        "plt.yticks(rotation = 0)\n",
        "plt.show()"
      ],
      "execution_count": null,
      "outputs": []
    },
    {
      "cell_type": "code",
      "metadata": {
        "id": "XmUz11XhcNj2"
      },
      "source": [
        "data[data[\"ID\"] == 3434750 ]"
      ],
      "execution_count": null,
      "outputs": []
    },
    {
      "cell_type": "markdown",
      "metadata": {
        "id": "muGN-sIfnBy6"
      },
      "source": [
        "## Exercice 3 "
      ]
    },
    {
      "cell_type": "code",
      "metadata": {
        "id": "6S4-eN5QnZWZ"
      },
      "source": [
        "data[data[\"name\"] == \"Magnus Carlsen\"]"
      ],
      "execution_count": null,
      "outputs": []
    },
    {
      "cell_type": "code",
      "metadata": {
        "id": "HRBVXe4Mn7B5"
      },
      "source": [
        "u = data.loc[data[\"name\"] == \"Magnus Carlsen\"][\"ID\"].item()\n",
        "P0 = {node:0 for node in G.nodes()}\n",
        "P0[u] = 1\n",
        "alpha = 0.15\n",
        "t = 10\n",
        "eps = 0"
      ],
      "execution_count": null,
      "outputs": []
    },
    {
      "cell_type": "code",
      "metadata": {
        "id": "EZaAVRHclPZw"
      },
      "source": [
        "PMC = G.PageRank(alpha= alpha, t= t, epsilion= eps, P0= P0)"
      ],
      "execution_count": null,
      "outputs": []
    },
    {
      "cell_type": "code",
      "metadata": {
        "id": "vEg4mbr5osEI"
      },
      "source": [
        "Values = sorted(list(PMC.values()), reverse= True)\n",
        "Val5 = Values[:5]\n",
        "Top5 = []\n",
        "Top5id = []\n",
        "values5 = []\n",
        "for val in Val5:\n",
        "  for u, valeur in PMC.items():\n",
        "    if valeur == val:\n",
        "      Top5.append(G.names[u])\n",
        "      Top5id.append(u)\n",
        "      values5.append(valeur)\n",
        "      break\n",
        "print(\"Top5: \", Top5)\n",
        "print(\"Top5id: \", Top5id)\n",
        "print(\"Values5: \", values5)"
      ],
      "execution_count": null,
      "outputs": []
    },
    {
      "cell_type": "code",
      "metadata": {
        "id": "YvhDdhB1yvqJ"
      },
      "source": [],
      "execution_count": null,
      "outputs": []
    }
  ]
}